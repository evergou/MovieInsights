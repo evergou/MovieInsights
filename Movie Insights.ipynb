{
 "cells": [
  {
   "cell_type": "code",
   "execution_count": 444,
   "metadata": {},
   "outputs": [
    {
     "data": {
      "text/html": [
       "<script>\n",
       "code_show=true; \n",
       "function code_toggle() {\n",
       " if (code_show){\n",
       " $('div.input').hide();\n",
       " } else {\n",
       " $('div.input').show();\n",
       " }\n",
       " code_show = !code_show\n",
       "} \n",
       "$( document ).ready(code_toggle);\n",
       "</script>\n",
       "The raw code for this IPython notebook is by default hidden for easier reading.\n",
       "To toggle on/off the raw code, click <a href=\"javascript:code_toggle()\">here</a>."
      ],
      "text/plain": [
       "<IPython.core.display.HTML object>"
      ]
     },
     "execution_count": 444,
     "metadata": {},
     "output_type": "execute_result"
    }
   ],
   "source": [
    "from IPython.display import HTML\n",
    "\n",
    "HTML('''<script>\n",
    "code_show=true; \n",
    "function code_toggle() {\n",
    " if (code_show){\n",
    " $('div.input').hide();\n",
    " } else {\n",
    " $('div.input').show();\n",
    " }\n",
    " code_show = !code_show\n",
    "} \n",
    "$( document ).ready(code_toggle);\n",
    "</script>\n",
    "The raw code for this IPython notebook is by default hidden for easier reading.\n",
    "To toggle on/off the raw code, click <a href=\"javascript:code_toggle()\">here</a>.''')"
   ]
  },
  {
   "cell_type": "markdown",
   "metadata": {},
   "source": [
    "# Franchises detection using BoxOfficeMojo and OMDBAPI\n",
    "\n",
    "In this Notebook I visualized a Social Network of Actors, where two actors are linked if they starred together in more than a movie. It is a rough estimate of the existence of a franchise.\n",
    "\n",
    "The data is based on the top 500 Grossing Movies according to BoxOfficeMojo. After having retrieved the titles from scraping BoxOfficeMojo, I used the OMDBAPI to retrieve data about the movies."
   ]
  },
  {
   "cell_type": "code",
   "execution_count": 3,
   "metadata": {},
   "outputs": [],
   "source": [
    "# Import requests package\n",
    "import json\n",
    "import pandas as pd\n",
    "import requests\n",
    "import re\n",
    "import keyring\n",
    "import networkx as nx\n",
    "from bs4 import BeautifulSoup\n",
    "from pandas.io.json import json_normalize\n",
    "import numpy as np\n",
    "from pyvis.network import Network\n",
    "import matplotlib.pyplot as plt\n",
    "import seaborn as sns\n",
    "sns.set()\n",
    "%matplotlib inline"
   ]
  },
  {
   "cell_type": "code",
   "execution_count": 4,
   "metadata": {},
   "outputs": [],
   "source": [
    "# Getting the top 500 grossing movies in the US \n",
    "results_titles = []\n",
    "for i in range(1, 6):\n",
    "    url = \"https://www.boxofficemojo.com/alltime/domestic.htm?page=\" + str(i) + \"&p=.htm\"\n",
    "    r = requests.get(url)\n",
    "    text = r.text\n",
    "    soup = BeautifulSoup(text)\n",
    "    b_tags = soup.find_all(\"b\")\n",
    "    results_titles_temp = list(map(lambda x: x.get_text(), b_tags))\n",
    "    results_titles_temp = list(filter(lambda x: not x.startswith(\"$\"), results_titles_temp))\n",
    "    results_titles_temp = results_titles_temp[\n",
    "        (results_titles_temp.index('Lifetime Gross')+1):(results_titles_temp.index('Lifetime Gross')+101)]\n",
    "    results_titles.extend(results_titles_temp)\n",
    "    \n",
    "titles = results_titles.copy()\n",
    "\n",
    "titles.remove(\"Marvel's The Avengers\")\n",
    "titles.append(\"The Avengers\")\n",
    "titles.remove(\"Dr. Seuss' The Lorax\")\n",
    "titles.append(\"The Lorax\")\n",
    "titles.remove(\"Monsters Vs. Aliens\")\n",
    "titles.append(\"Monsters vs. Aliens\")\n",
    "titles.remove(\"Dr. Seuss' Horton Hears a Who!\")\n",
    "titles.append(\"Horton Hears a Who!\")\n",
    "titles.remove(\"Marley and Me\")\n",
    "titles.append(\"Marley & Me\")\n",
    "titles.remove(\"Ocean's 8\")\n",
    "titles.append(\"Ocean's Eight\")\n",
    "titles.remove(\"Fantastic Four: Rise of the Silver Surfer\")\n",
    "titles.append(\"Fantastic 4: Rise of the Silver Surfer\")\n",
    "titles.remove(\"The Divergent Series: Insurgent\")\n",
    "titles.append(\"Insurgent\")"
   ]
  },
  {
   "cell_type": "code",
   "execution_count": 5,
   "metadata": {},
   "outputs": [],
   "source": [
    "pattern = re.compile(\" \\([0-9]+\\)\")\n",
    "results_dict = {}\n",
    "error_list = []\n",
    "apikey = keyring.get_password('omdbapi', 'evergou')\n",
    "for i in titles:\n",
    "    if re.search(pattern, i):\n",
    "        split_title = re.split('\\(|\\)', i)\n",
    "        url = 'http://www.omdbapi.com/?apikey=' + apikey + '&t=' + split_title[0].replace(\" \", \"+\") + \\\n",
    "        '&y=' + split_title[1]\n",
    "    else:\n",
    "        url = 'http://www.omdbapi.com/?apikey=' + apikey + '&t=' + i.replace(\" \", \"+\")\n",
    "    r = requests.get(url)\n",
    "    json_data = r.json()\n",
    "    try:\n",
    "        results_dict[json_data[\"imdbID\"]] = json_data\n",
    "    except:\n",
    "        error_list.append(i)"
   ]
  },
  {
   "cell_type": "markdown",
   "metadata": {},
   "source": [
    "Here is an example of how an entry from the OMDBAPI looks like."
   ]
  },
  {
   "cell_type": "code",
   "execution_count": 6,
   "metadata": {},
   "outputs": [
    {
     "data": {
      "text/plain": [
       "{'Actors': 'Emma Watson, Dan Stevens, Luke Evans, Josh Gad',\n",
       " 'Awards': 'Nominated for 2 Oscars. Another 12 wins & 65 nominations.',\n",
       " 'BoxOffice': '$503,974,884',\n",
       " 'Country': 'USA',\n",
       " 'DVD': '06 Jun 2017',\n",
       " 'Director': 'Bill Condon',\n",
       " 'Genre': 'Family, Fantasy, Musical, Romance',\n",
       " 'Language': 'English',\n",
       " 'Metascore': '65',\n",
       " 'Plot': 'A selfish prince is cursed to become a monster for the rest of his life, unless he learns to fall in love with a beautiful young woman he keeps prisoner.',\n",
       " 'Poster': 'https://m.media-amazon.com/images/M/MV5BMTUwNjUxMTM4NV5BMl5BanBnXkFtZTgwODExMDQzMTI@._V1_SX300.jpg',\n",
       " 'Production': 'Walt Disney Pictures',\n",
       " 'Rated': 'PG',\n",
       " 'Ratings': [{'Source': 'Internet Movie Database', 'Value': '7.2/10'},\n",
       "  {'Source': 'Rotten Tomatoes', 'Value': '71%'},\n",
       "  {'Source': 'Metacritic', 'Value': '65/100'}],\n",
       " 'Released': '17 Mar 2017',\n",
       " 'Response': 'True',\n",
       " 'Runtime': '129 min',\n",
       " 'Title': 'Beauty and the Beast',\n",
       " 'Type': 'movie',\n",
       " 'Website': 'http://movies.disney.com/beauty-and-the-beast-2017',\n",
       " 'Writer': 'Stephen Chbosky (screenplay by), Evan Spiliotopoulos (screenplay by), Linda Woolverton (based on the 1991 animated film \"Beauty and the Beast\" animation screenplay by)',\n",
       " 'Year': '2017',\n",
       " 'imdbID': 'tt2771200',\n",
       " 'imdbRating': '7.2',\n",
       " 'imdbVotes': '241,321'}"
      ]
     },
     "execution_count": 6,
     "metadata": {},
     "output_type": "execute_result"
    }
   ],
   "source": [
    "results_dict['tt2771200']"
   ]
  },
  {
   "cell_type": "code",
   "execution_count": 82,
   "metadata": {},
   "outputs": [],
   "source": [
    "results_copy = results_dict.copy()\n",
    "results_df = pd.DataFrame.from_dict(results_copy).T\n",
    "actors_df = results_df.Actors.str.split(\",\", expand=True).reset_index().rename(columns={\"index\":\"imdbID\"})\n",
    "actors_df = actors_df.merge(results_df.imdbRating, how = \"left\", right_index=True, left_on = 'imdbID')\n",
    "actors_df = pd.melt(actors_df, id_vars=[\"imdbID\", \"imdbRating\"], value_vars=[0,1,2,3], value_name=\"Actor\").drop('variable', 1)\n",
    "actors_df.Actor.replace(\"None\", np.nan, inplace=True)\n",
    "actors_df[\"Actor\"] = actors_df.Actor.str.strip()\n",
    "actors_df['imdbRating'] = actors_df.imdbRating.astype(float)\n",
    "actors_edge = actors_df.merge(actors_df, how=\"left\", on='imdbID', suffixes=(\"_1\", \"_2\"))\n",
    "actors_edge = actors_edge[actors_edge.Actor_1!=actors_edge.Actor_2]\n",
    "actors_edge[\"weight\"] = 1"
   ]
  },
  {
   "cell_type": "code",
   "execution_count": 83,
   "metadata": {},
   "outputs": [],
   "source": [
    "actors_avg_imbd_score = actors_df.groupby('Actor').imdbRating.mean()\n",
    "\n",
    "actors_edge_with_weights = actors_edge.groupby(\n",
    "    ['Actor_1', 'Actor_2']).weight.sum().reset_index().sort_values('weight', ascending=False)\n",
    "\n",
    "actors_edge_weights_imdb_score = actors_edge_with_weights.merge(actors_avg_imbd_score, how='left', left_on = 'Actor_1',\n",
    "                                                               right_index=True)\n",
    "\n",
    "actors_edge_weights_imdb_score = actors_edge_weights_imdb_score.merge(actors_avg_imbd_score, how='left', left_on = 'Actor_2',\n",
    "                                                               right_index=True, suffixes=('_1','_2'))"
   ]
  },
  {
   "cell_type": "code",
   "execution_count": 84,
   "metadata": {},
   "outputs": [],
   "source": [
    "actors_edge_weights_imdb_score_more_than_1 = actors_edge_weights_imdb_score[actors_edge_weights_imdb_score['weight']>1]"
   ]
  },
  {
   "cell_type": "code",
   "execution_count": 85,
   "metadata": {},
   "outputs": [],
   "source": [
    "sources = actors_edge_weights_imdb_score['Actor_1']\n",
    "targets = actors_edge_weights_imdb_score['Actor_2']\n",
    "weights = actors_edge_weights_imdb_score['weight']\n",
    "edge_data = list(zip(sources, targets, weights))\n",
    "\n",
    "sources_m_t_1 = actors_edge_weights_imdb_score_more_than_1['Actor_1']\n",
    "targets_m_t_1 = actors_edge_weights_imdb_score_more_than_1['Actor_2']\n",
    "weights_m_t_1 = actors_edge_weights_imdb_score_more_than_1['weight']\n",
    "edge_data_m_t_1 = list(zip(sources_m_t_1, targets_m_t_1, weights_m_t_1))"
   ]
  },
  {
   "cell_type": "code",
   "execution_count": 86,
   "metadata": {},
   "outputs": [],
   "source": [
    "G = nx.Graph()\n",
    "for e in edge_data:\n",
    "    src = e[0]\n",
    "    dst = e[1]\n",
    "    w = e[2]\n",
    "\n",
    "    G.add_node(src)\n",
    "    G.add_node(dst)\n",
    "    G.add_edge(src, dst, value=w)\n",
    "    \n",
    "G_m_t_1 = nx.Graph()\n",
    "for e in edge_data_m_t_1:\n",
    "    src = e[0]\n",
    "    dst = e[1]\n",
    "    w = e[2]\n",
    "\n",
    "    G_m_t_1.add_node(src)\n",
    "    G_m_t_1.add_node(dst)\n",
    "    G_m_t_1.add_edge(src, dst, value=w)"
   ]
  },
  {
   "cell_type": "markdown",
   "metadata": {},
   "source": [
    "Some caveats: the OMBDAPI returns only four actors per movie, the full cast is not available.\n",
    "\n",
    "We can see here the top 10 actors by centrality."
   ]
  },
  {
   "cell_type": "code",
   "execution_count": 103,
   "metadata": {},
   "outputs": [
    {
     "data": {
      "image/png": "[encoded data removed]",
      "text/plain": [
       "<Figure size 432x288 with 1 Axes>"
      ]
     },
     "metadata": {
      "needs_background": "light"
     },
     "output_type": "display_data"
    }
   ],
   "source": [
    "pd.Series(nx.degree_centrality(G_m_t_1)).T.sort_values(ascending=False)[:10].plot(kind=\"bar\")\n",
    "plt.show()"
   ]
  },
  {
   "cell_type": "code",
   "execution_count": 87,
   "metadata": {},
   "outputs": [],
   "source": [
    "actors_edge_weights_imdb_score_centrality = actors_edge_weights_imdb_score.merge(\n",
    "    pd.Series(nx.degree_centrality(G)).T.rename('centrality'), right_index=True, left_on='Actor_1')\n",
    "\n",
    "actors_edge_weights_imdb_score_centrality = actors_edge_weights_imdb_score_centrality.merge(\n",
    "    pd.Series(nx.degree_centrality(G)).T.rename('centrality'), right_index=True, left_on='Actor_2',\n",
    "suffixes=('_1', '_2'))\n",
    "\n",
    "actors_edge_weights_imdb_score_centrality_more_than_1 = actors_edge_weights_imdb_score_more_than_1.merge(\n",
    "    pd.Series(nx.degree_centrality(G_m_t_1)).T.rename('centrality'), right_index=True, left_on='Actor_1')\n",
    "\n",
    "actors_edge_weights_imdb_score_centrality_more_than_1 = actors_edge_weights_imdb_score_centrality_more_than_1.merge(\n",
    "    pd.Series(nx.degree_centrality(G_m_t_1)).T.rename('centrality'), right_index=True, left_on='Actor_2',\n",
    "suffixes=('_1', '_2'))"
   ]
  },
  {
   "cell_type": "code",
   "execution_count": 78,
   "metadata": {},
   "outputs": [],
   "source": [
    "sources = actors_edge_weights_imdb_score_centrality['Actor_1']\n",
    "targets = actors_edge_weights_imdb_score_centrality['Actor_2']\n",
    "weights = actors_edge_weights_imdb_score_centrality['weight']\n",
    "size_1 = actors_edge_weights_imdb_score_centrality['centrality_1']*100000\n",
    "size_2 = actors_edge_weights_imdb_score_centrality['centrality_2']*100000\n",
    "\n",
    "edge_data = list(zip(sources, targets, weights, size_1, size_2))"
   ]
  },
  {
   "cell_type": "code",
   "execution_count": 79,
   "metadata": {},
   "outputs": [],
   "source": [
    "net = Network(height=\"750px\", width=\"100%\", bgcolor=\"#7e8580\", font_color=\"white\")\n",
    "net.force_atlas_2based()\n",
    "\n",
    "for e in edge_data:\n",
    "    src = e[0]\n",
    "    dst = e[1]\n",
    "    w = e[2]\n",
    "    src_s = e[3]\n",
    "    dst_s = e[4]\n",
    "\n",
    "    net.add_node(src, src, value=src_s, title=src)\n",
    "    net.add_node(dst, dst, value=dst_s, title=dst)\n",
    "    net.add_edge(src, dst, value=w)\n",
    "\n",
    "net.show_buttons(filter_=['physics'])"
   ]
  },
  {
   "cell_type": "code",
   "execution_count": 80,
   "metadata": {},
   "outputs": [],
   "source": [
    "net.show(\"actors_network_2.html\")"
   ]
  },
  {
   "cell_type": "code",
   "execution_count": 100,
   "metadata": {},
   "outputs": [],
   "source": [
    "sources = actors_edge_weights_imdb_score_centrality_more_than_1['Actor_1']\n",
    "targets = actors_edge_weights_imdb_score_centrality_more_than_1['Actor_2']\n",
    "weights = actors_edge_weights_imdb_score_centrality_more_than_1['weight']\n",
    "size_1 = actors_edge_weights_imdb_score_centrality_more_than_1['centrality_1']\n",
    "size_2 = actors_edge_weights_imdb_score_centrality_more_than_1['centrality_2']\n",
    "edge_data = list(zip(sources, targets, weights, size_1, size_2))"
   ]
  },
  {
   "cell_type": "code",
   "execution_count": 101,
   "metadata": {},
   "outputs": [],
   "source": [
    "net = Network(height=\"750px\", width=\"100%\", bgcolor=\"#7e8580\", font_color=\"white\", notebook=True)\n",
    "net.force_atlas_2based()\n",
    "\n",
    "for e in edge_data:\n",
    "    src = e[0]\n",
    "    dst = e[1]\n",
    "    w = e[2]\n",
    "    src_s = e[3]\n",
    "    dst_s = e[4]\n",
    "\n",
    "    net.add_node(src, src, value=src_s, title=src)\n",
    "    net.add_node(dst, dst, value=dst_s, title=dst)\n",
    "    net.add_edge(src, dst, value=w)\n",
    "\n",
    "net.show_buttons(filter_=['physics'])"
   ]
  },
  {
   "cell_type": "markdown",
   "metadata": {},
   "source": [
    "Here is the network.\n",
    "\n",
    "The size of the bubble is the Centrality, while the more movies the Actors starred together in, the heavier the edge.\n",
    "\n",
    "See how many franchises you can identify!"
   ]
  },
  {
   "cell_type": "code",
   "execution_count": 102,
   "metadata": {
    "scrolled": false
   },
   "outputs": [
    {
     "data": {
      "text/html": [
       "\n",
       "        <iframe\n",
       "            width=\"100%\"\n",
       "            height=\"750px\"\n",
       "            src=\"actors_network_more_than_1.html\"\n",
       "            frameborder=\"0\"\n",
       "            allowfullscreen\n",
       "        ></iframe>\n",
       "        "
      ],
      "text/plain": [
       "<IPython.lib.display.IFrame at 0x23f124275c0>"
      ]
     },
     "execution_count": 102,
     "metadata": {},
     "output_type": "execute_result"
    }
   ],
   "source": [
    "net.show(\"actors_network_more_than_1.html\")"
   ]
  },
  {
   "cell_type": "code",
   "execution_count": null,
   "metadata": {},
   "outputs": [],
   "source": []
  }
 ],
 "metadata": {
  "kernelspec": {
   "display_name": "Python 3",
   "language": "python",
   "name": "python3"
  },
  "language_info": {
   "codemirror_mode": {
    "name": "ipython",
    "version": 3
   },
   "file_extension": ".py",
   "mimetype": "text/x-python",
   "name": "python",
   "nbconvert_exporter": "python",
   "pygments_lexer": "ipython3",
   "version": "3.7.1"
  }
 },
 "nbformat": 4,
 "nbformat_minor": 2
}
